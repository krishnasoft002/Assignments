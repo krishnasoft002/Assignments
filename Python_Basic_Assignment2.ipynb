{
 "cells": [
  {
   "cell_type": "markdown",
   "id": "d3e5cb55",
   "metadata": {},
   "source": [
    "# Assignment2"
   ]
  },
  {
   "cell_type": "markdown",
   "id": "d845b387",
   "metadata": {},
   "source": [
    "# 1.What are the two values of the Boolean data type? How do you write them?\n",
    "\n",
    "Ans: A variable of the primitive data type boolean can have two values: true and false.\n",
    "Boolean variables are used to indicate whether a condition is true or not, or to represent two states,\n",
    "such as a light being on or off.\n",
    " EX: boolean hasPassport; !boolean isDone = false;! !boolean isTurnedOn = true;!"
   ]
  },
  {
   "cell_type": "markdown",
   "id": "8c7b9fa0",
   "metadata": {},
   "source": [
    "# 2. What are the three different types of Boolean operators?\n",
    "Ans: there are three types of boolean operators\n",
    "1.The AND operator (&& or \"and\") \n",
    "2.The OR operator (|| or \"or\") \n",
    "3.The NOT operator (not)\n"
   ]
  },
  {
   "cell_type": "markdown",
   "id": "457d60de",
   "metadata": {},
   "source": [
    "# 3.Make a list of each Boolean operator's truth tables (i.e. every possible combination of Boolean values for the operator and what it evaluate ).\n",
    "\n",
    "Ans:The table used to represent the boolean expression of a logic gate function is commonly called a Truth Table. A logic gate truth table shows each possible input combination to the gate or circuit with the resultant output depending upon the combination of these input(s).\n",
    "\n",
    "For example, consider a single 2-input logic circuit with input variables labelled as A and B. There are “four” possible input combinations or 22 of \"OFF\" and \"ON\" for the two inputs. However, when dealing with Boolean expressions and especially logic gate truth tables, we do not general use “ON” or “OFF” but instead give them bit values which represent a logic level \"1\"or a logic level \"0\" respectively.\n",
    "\n",
    "Then the four possible combinations of A and B for a 2-input logic gate is given as:\n",
    "\n",
    "Input Combination 1. – “OFF” – “OFF” or ( 0, 0 )\n",
    "Input Combination 2. – “OFF” – “ON” or ( 0, 1 )\n",
    "Input Combination 3. – “ON” – “OFF” or ( 1, 0 )\n",
    "Input Combination 4. – “ON” – “ON” or ( 1, 1 )\n"
   ]
  },
  {
   "cell_type": "markdown",
   "id": "54cd49ca",
   "metadata": {},
   "source": [
    "# 4.What are the values of the following expressions?\n",
    "\n",
    "Ans:\n",
    "1.(5 > 4) and (3 == 5) \n",
    "Ans: False\n",
    "2.not (5 > 4)\n",
    "Ans: False\n",
    "3.(5 > 4) or (3 == 5)\n",
    "Ans: True\n",
    "4.not ((5 > 4) or (3 == 5))\n",
    "Ans: False\n",
    "5.(True and True) and (True == False)\n",
    "Ans: False\n",
    "6.(not False) or (not True)\n",
    "Ans: True"
   ]
  },
  {
   "cell_type": "markdown",
   "id": "598c9c1f",
   "metadata": {},
   "source": [
    "# 5.What are the six comparison operators?\n",
    "\n",
    "Ans:six comparison operators are \n",
    " 1.less than\n",
    " 2.greater than\n",
    " 3.less than or equal to\n",
    " 4.greater than or equal to\n",
    " 5.equal to \n",
    " 6.and not equal to"
   ]
  },
  {
   "cell_type": "markdown",
   "id": "4ee50a14",
   "metadata": {},
   "source": [
    "# 6.How do you tell the difference between the equal to and assignment operators?Describe a condition and when you would use one.\n",
    "\n",
    "Ans:\n",
    "assignment operators used to assign the value on the right to the variable on the left.\n",
    "EX: a = 10; b = 20; ch = 'y';\n",
    "The ‘==’ operator checks whether the two given operands are equal or not. If so, it returns true. Otherwise it returns false.\n",
    "EX: 8==8 This will return true.\n"
   ]
  },
  {
   "cell_type": "markdown",
   "id": "fe8c72c2",
   "metadata": {},
   "source": [
    "# 7. Identify the three blocks in this code:\n",
    " \n",
    "Ans:\n",
    "spam = 0\n",
    "if spam == 10: --> if Block\n",
    "print('eggs')\n",
    "if spam > 5: --> if Block\n",
    "print('bacon')\n",
    "else:      --> else Block\n",
    "print('ham')\n",
    "print('spam')\n",
    "print('spam')\n"
   ]
  },
  {
   "cell_type": "markdown",
   "id": "8f51713f",
   "metadata": {},
   "source": [
    "# 8. Write code that prints Hello if 1 is stored in spam, prints Howdy if 2 is stored in spam, and prints Greetings! if anything else is stored in spam\n",
    "\n",
    "Ans: \n",
    "if (spam == 1):\n",
    "print('Hello')\n",
    "if (spam ==2 ):\n",
    "print('Howdy')\n",
    "else:      \n",
    "print('Greetings')"
   ]
  },
  {
   "cell_type": "markdown",
   "id": "6236c426",
   "metadata": {},
   "source": [
    "# 9. If your programme is stuck in an endless loop, what keys you’ll press?\n",
    "\n",
    "Ans: Press CTRL-C to stop a program stuck in an infinite loop"
   ]
  },
  {
   "cell_type": "code",
   "execution_count": null,
   "id": "398ebc27",
   "metadata": {},
   "outputs": [],
   "source": []
  },
  {
   "cell_type": "markdown",
   "id": "4c12c510",
   "metadata": {},
   "source": [
    "# 10.How can you tell the difference between break and continue?\n",
    "\n",
    "Ans: the difference between break and continue is that break is used for immediate termination of loop.\n",
    "On the other hand, ‘continue’ terminate the current iteration and resumes the control to the next iteration of the loop."
   ]
  },
  {
   "cell_type": "markdown",
   "id": "30c70588",
   "metadata": {},
   "source": [
    "# 11.In a for loop, what is the difference between range(10), range(0, 10), and range(0, 10, 1)?\n",
    "\n",
    "Ans: \n",
    "range(10)= range(stop) --> o/p: 0 1 2 3 4 5 6 7 8 9\n",
    "range(0, 10) == range(start,stop)--> o/p: 0 1 2 3 4 5 6 7 8 9\n",
    "range(0, 10, 1) range(start,stop,step)--> o/p: 0 1 2 3 4 5 6 7 8 9"
   ]
  },
  {
   "cell_type": "markdown",
   "id": "65cc6bb2",
   "metadata": {},
   "source": [
    "# 12. Write a short program that prints the numbers 1 to 10 using a for loop. Then write an equivalent program that prints the numbers 1 to 10 using a while loop.\n",
    "Ans: \n",
    " 1.Using for loop:\n",
    " Sol: for i in range(1, 11):\n",
    "    print(i)\n",
    " 2.   Using while loop:\n",
    " Sol: \n",
    " n = 1\n",
    " while n <= 10:  \n",
    " print(n, end=' ')    \n",
    " n = n+1\n"
   ]
  },
  {
   "cell_type": "markdown",
   "id": "7bf619e8",
   "metadata": {},
   "source": [
    "# 13.If you had a function named bacon() inside a module named spam, how would you call it after importing spam\n",
    "\n",
    "Ans:\n",
    "\n",
    "Module spam in a.py:\n",
    "\n",
    "def bacon():\n",
    "    print('Hi')\n",
    "    \n",
    " Module spam in b.py:\n",
    " \n",
    " import a\n",
    " a.bacon()  # prints \"Hi\"\n",
    "\n"
   ]
  },
  {
   "cell_type": "code",
   "execution_count": null,
   "id": "5d4f29fe",
   "metadata": {},
   "outputs": [],
   "source": []
  }
 ],
 "metadata": {
  "kernelspec": {
   "display_name": "Python 3",
   "language": "python",
   "name": "python3"
  },
  "language_info": {
   "codemirror_mode": {
    "name": "ipython",
    "version": 3
   },
   "file_extension": ".py",
   "mimetype": "text/x-python",
   "name": "python",
   "nbconvert_exporter": "python",
   "pygments_lexer": "ipython3",
   "version": "3.7.4"
  }
 },
 "nbformat": 4,
 "nbformat_minor": 5
}
