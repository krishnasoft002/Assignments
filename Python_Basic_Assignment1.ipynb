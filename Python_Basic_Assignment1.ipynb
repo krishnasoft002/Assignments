{
 "cells": [
  {
   "cell_type": "markdown",
   "id": "0329ee33",
   "metadata": {},
   "source": [
    "# Assignment1"
   ]
  },
  {
   "cell_type": "markdown",
   "id": "30b07ae9",
   "metadata": {},
   "source": [
    "# 1. In the below elements which of them are values or an expression? eg:- values can be integer or string and expressions will be mathematical operators."
   ]
  },
  {
   "cell_type": "code",
   "execution_count": null,
   "id": "d0aeac66",
   "metadata": {},
   "outputs": [],
   "source": [
    "Ans:\n",
    "* \n",
    "Ans: operator\n",
    "'hello' \n",
    "Ans: String Value\n",
    "-87.8\n",
    "Ans:  Float\n",
    "- \n",
    "Ans: operator\n",
    "/ \n",
    "Ans: operator\n",
    "+\t\n",
    "Ans: operator\n",
    "6 \n",
    "Ans: Integer\n"
   ]
  },
  {
   "cell_type": "markdown",
   "id": "249047cf",
   "metadata": {},
   "source": [
    "# 2 What is the difference between string and variable?"
   ]
  },
  {
   "cell_type": "code",
   "execution_count": null,
   "id": "e6717317",
   "metadata": {},
   "outputs": [],
   "source": [
    "Ans: \n",
    "A Variable is a store of information\n",
    "String is a type of information you would store in a Variable."
   ]
  },
  {
   "cell_type": "markdown",
   "id": "9d432a5f",
   "metadata": {},
   "source": [
    "# 3. Describe three different data types."
   ]
  },
  {
   "cell_type": "code",
   "execution_count": null,
   "id": "1bccc62a",
   "metadata": {},
   "outputs": [],
   "source": [
    "Ans:\n",
    "    There are different types of data types in Python. \n",
    "Some built-in Python data types are:\n",
    "\n",
    "Numeric data types: int, float, complex\n",
    "String data types: str\n",
    "Sequence types: list, tuple, range\n",
    "Binary types: bytes, bytearray, memoryview\n",
    "Mapping data type: dict\n",
    "Boolean type: bool\n",
    "Set data types: set, frozenset"
   ]
  },
  {
   "cell_type": "markdown",
   "id": "1b79a065",
   "metadata": {},
   "source": [
    "# 4. What is an expression made up of? What do all expressions do?"
   ]
  },
  {
   "cell_type": "code",
   "execution_count": null,
   "id": "3544778b",
   "metadata": {},
   "outputs": [],
   "source": [
    "Ans: Expressions are things that are intended to result in a value.\n",
    "an expression is anything that evaluates to a value. Or that could be on the right-hand side of an assignment:\n",
    "\n",
    "An expression is any sequence of literals (strings, numbers, lists, sets, tuples), objects, function calls, identifiers combined with a variety of operators which results in a value - regardless of whether of the resulting value is an object, or a number, or even a None. So examples of expressions are :\n",
    "\n",
    "‘Hello World’ - this is a string literal\n",
    "23.6 - this is a floating point literal\n",
    "{1,2,3,4} - a set literal\n",
    "my_func(1,2,3) - a function call (even if the function returns None)\n",
    "2 + the_number * math.factorial(7) - a combination of literals, operators, identifiers and function calls\n",
    "Expressions aren’t things like for loops, while loops, with statements, try/except, if/else - they are statements."
   ]
  },
  {
   "cell_type": "markdown",
   "id": "22ee3385",
   "metadata": {},
   "source": [
    "# 5. This assignment statements, like spam = 10. What is the difference between an expression and a statement?"
   ]
  },
  {
   "cell_type": "code",
   "execution_count": null,
   "id": "6f179f98",
   "metadata": {},
   "outputs": [],
   "source": [
    "Ans: \n",
    "Statements represent an action or command e.g print statements, assignment statements.\n",
    "Ex: print 'hello', x = 1\n",
    "    \n",
    "Expression is a combination of variables, operations and values that yields a result value.\n",
    "Ex: 5 * 5 # yields 25    "
   ]
  },
  {
   "cell_type": "markdown",
   "id": "e1d9e8d7",
   "metadata": {},
   "source": [
    "# 6. After running the following code, what does the variable bacon contain?"
   ]
  },
  {
   "cell_type": "code",
   "execution_count": null,
   "id": "0a276d5c",
   "metadata": {},
   "outputs": [],
   "source": [
    "Ans: 23"
   ]
  },
  {
   "cell_type": "markdown",
   "id": "41d16481",
   "metadata": {},
   "source": [
    "# 7. What should the values of the following two terms be?\n",
    "1.'spam' + 'spamspam'\n",
    "2. 'spam' * 3"
   ]
  },
  {
   "cell_type": "code",
   "execution_count": null,
   "id": "65357489",
   "metadata": {},
   "outputs": [],
   "source": [
    "1.Ans: 'spamspamspam'\n",
    "2.Ans: 'spamspamspam' "
   ]
  },
  {
   "cell_type": "markdown",
   "id": "67b55f9b",
   "metadata": {},
   "source": [
    "# 8.Why is eggs a valid variable name while 100 is invalid?"
   ]
  },
  {
   "cell_type": "code",
   "execution_count": null,
   "id": "bc6a01bc",
   "metadata": {},
   "outputs": [],
   "source": [
    "Ans: Variable names cannot begin with a number."
   ]
  },
  {
   "cell_type": "markdown",
   "id": "012bc5bf",
   "metadata": {},
   "source": [
    "# 9.What three functions can be used to get the integer, floating-point number, or string version of a value"
   ]
  },
  {
   "cell_type": "code",
   "execution_count": null,
   "id": "7bd69804",
   "metadata": {},
   "outputs": [],
   "source": [
    "Ans: \n",
    "The int(), float(), and str() functions will evaluate to the integer, floating-point number, and string versions of the value passed to them."
   ]
  },
  {
   "cell_type": "markdown",
   "id": "bec780ad",
   "metadata": {},
   "source": [
    "# 10 Why does this expression cause an error? How can you fix it?\n",
    "Q :'I have eaten ' + 99 + ' burritos.'"
   ]
  },
  {
   "cell_type": "code",
   "execution_count": null,
   "id": "c2e0ad05",
   "metadata": {},
   "outputs": [],
   "source": [
    "Ans : The expression causes an error because 99 is an integer, and only strings can be concatenated to other strings with the + operator. \n",
    "    The correct way is I have eaten ' + str(99) + ' burritos.'."
   ]
  }
 ],
 "metadata": {
  "kernelspec": {
   "display_name": "Python 3",
   "language": "python",
   "name": "python3"
  },
  "language_info": {
   "codemirror_mode": {
    "name": "ipython",
    "version": 3
   },
   "file_extension": ".py",
   "mimetype": "text/x-python",
   "name": "python",
   "nbconvert_exporter": "python",
   "pygments_lexer": "ipython3",
   "version": "3.7.4"
  }
 },
 "nbformat": 4,
 "nbformat_minor": 5
}
